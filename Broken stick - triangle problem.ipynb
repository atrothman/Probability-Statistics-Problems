{
 "cells": [
  {
   "cell_type": "markdown",
   "metadata": {},
   "source": [
    "# Broken stick - triangle problem\n",
    "#### by Andrew Rothman"
   ]
  },
  {
   "cell_type": "markdown",
   "metadata": {},
   "source": [
    "This is a classic toy problem in probability theory, stated as follows: <br>\n",
    "* You have a stick of arbitrary length. You break the stick in two random places along it's length, generating three pieces. What is the probability you can form a triangle from the resulting three pieces?"
   ]
  },
  {
   "cell_type": "code",
   "execution_count": 30,
   "metadata": {},
   "outputs": [],
   "source": [
    "######################\n",
    "## import libraries ##\n",
    "######################\n",
    "import numpy as np\n",
    "import pandas as pd\n",
    "import math\n",
    "import matplotlib.pyplot as plt "
   ]
  },
  {
   "cell_type": "markdown",
   "metadata": {},
   "source": [
    "### Analytic Solution:"
   ]
  },
  {
   "cell_type": "code",
   "execution_count": 31,
   "metadata": {},
   "outputs": [
    {
     "data": {
      "text/plain": [
       "([<matplotlib.lines.Line2D at 0x211cff35fd0>],\n",
       " [<matplotlib.lines.Line2D at 0x211cfeedb70>],\n",
       " [<matplotlib.lines.Line2D at 0x211ce25e9b0>],\n",
       " [<matplotlib.lines.Line2D at 0x211cfa466a0>],\n",
       " [<matplotlib.lines.Line2D at 0x211cfa462e8>],\n",
       " [<matplotlib.lines.Line2D at 0x211cfea5b70>],\n",
       " (0, 2),\n",
       " [<matplotlib.lines.Line2D at 0x211cfea5da0>],\n",
       " [<matplotlib.lines.Line2D at 0x211cfed6978>],\n",
       " [<matplotlib.lines.Line2D at 0x211cfed6c88>],\n",
       " [<matplotlib.lines.Line2D at 0x211cfed60b8>],\n",
       " Text(1.5,1.3,'unit length 1'),\n",
       " [<matplotlib.lines.Line2D at 0x211cfecfac8>],\n",
       " [<matplotlib.lines.Line2D at 0x211cfecf160>],\n",
       " [<matplotlib.lines.Line2D at 0x211cfecfa90>],\n",
       " [<matplotlib.lines.Line2D at 0x211cfecf898>],\n",
       " Text(1.1,0.75,'a'),\n",
       " [<matplotlib.lines.Line2D at 0x211cf128940>],\n",
       " [<matplotlib.lines.Line2D at 0x211cf1288d0>],\n",
       " [<matplotlib.lines.Line2D at 0x211cd241c50>],\n",
       " [<matplotlib.lines.Line2D at 0x211d0080ac8>],\n",
       " Text(1.4,0.75,'b'),\n",
       " [<matplotlib.lines.Line2D at 0x211cf86a2e8>],\n",
       " [<matplotlib.lines.Line2D at 0x211cf86a2b0>],\n",
       " [<matplotlib.lines.Line2D at 0x211ccd21240>],\n",
       " [<matplotlib.lines.Line2D at 0x211ccd21048>],\n",
       " Text(1.8,0.75,'1-a-b'),\n",
       " (0.95, 2.05, 0.0, 2.0))"
      ]
     },
     "execution_count": 31,
     "metadata": {},
     "output_type": "execute_result"
    },
    {
     "data": {
      "image/png": "[encoded data removed]",
      "text/plain": [
       "<Figure size 432x288 with 1 Axes>"
      ]
     },
     "metadata": {},
     "output_type": "display_data"
    }
   ],
   "source": [
    "plt.plot([1,2], [1,1], color='blue'), plt.plot([1,2], [1.1,1.1], color='blue'), plt.plot([1,1], [1,1.1], color='blue'), plt.plot([2,2], [1,1.1], color='blue'), plt.plot([1.2,1.2], [1,1.1], color='blue'), plt.plot([1.6,1.6], [1,1.1], color='blue'), plt.ylim([0,2]), plt.plot([1.01,1.01], [1.15,1.2], color='black'), plt.plot([1.99,1.99], [1.15,1.2], color='black'), plt.plot([1.01,1.99], [1.2,1.2], color='black'), plt.plot([1.5,1.5], [1.2,1.25], color='black'), plt.text(1.5, 1.3, 'unit length 1', fontsize=10, horizontalalignment='center'), plt.plot([1.01,1.01], [0.95,0.9], color='black'), plt.plot([1.19,1.19], [0.95,0.9], color='black'), plt.plot([1.01,1.19], [0.9,0.9], color='black'), plt.plot([1.1,1.1], [0.9,0.85], color='black'), plt.text(1.1, 0.75, 'a', fontsize=10, horizontalalignment='center'), plt.plot([1.21,1.21], [0.95,0.9], color='black'), plt.plot([1.59,1.59], [0.95,0.9], color='black'), plt.plot([1.21,1.59], [0.9,0.9], color='black'), plt.plot([1.4,1.4], [0.9,0.85], color='black'), plt.text(1.4, 0.75, 'b', fontsize=10, horizontalalignment='center'), plt.plot([1.61,1.61], [0.95,0.9], color='black'), plt.plot([1.99,1.99], [0.95,0.9], color='black'), plt.plot([1.61,1.99], [0.9,0.9], color='black'), plt.plot([1.8,1.8], [0.9,0.85], color='black'), plt.text(1.8, 0.75, '1-a-b', fontsize=10, horizontalalignment='center'), plt.axis('off')"
   ]
  },
  {
   "cell_type": "markdown",
   "metadata": {},
   "source": [
    "Let us assume the stick is of unit length \"1\". Breaking the stick in two random places along it's length results in 3 pieces of length:\n",
    "$$\n",
    "\\begin{align}\n",
    "a \\\\\n",
    "b \\\\\n",
    "1-a-b \\\\\n",
    "\\end{align}\n",
    "$$"
   ]
  },
  {
   "cell_type": "markdown",
   "metadata": {},
   "source": [
    "#### General Boundary Conditions:\n",
    "The boundary conditions for the three pieces are:\n",
    "$$\n",
    "\\begin{align}\n",
    "0<a<1 \\\\\n",
    "0<b<1 \\\\\n",
    "0<1-a-b<1 \\\\\n",
    "\\end{align}\n",
    "$$\n",
    "\n",
    "#### Boundary Conditions for pieces to form a triangle:\n",
    "In order for the three pieces to form a triangle, each side must be strictly less than the sum of the two remaining sides. We can therefore specify the boundary conditions for forming a triangle:\n",
    "$$\n",
    "\\begin{align}\n",
    "a<b+(1-a-b) \\\\\n",
    "a<1-a \\\\\n",
    "a<0.5 \\\\\n",
    "\\\\\n",
    "b<a+(1-a-b) \\\\\n",
    "b<1-b \\\\\n",
    "b<0.5 \\\\\n",
    "\\\\\n",
    "(1-a-b)<a+b \\\\\n",
    "1<2a+2b \\\\\n",
    "b<-a+0.5 \\\\\n",
    "\\end{align}\n",
    "$$\n",
    "\n",
    "Let's plot the probability space as a function of \"a\" and \"b\", and the probability space for which the three sides form a triangle:"
   ]
  },
  {
   "cell_type": "code",
   "execution_count": 32,
   "metadata": {},
   "outputs": [
    {
     "data": {
      "text/plain": [
       "<matplotlib.legend.Legend at 0x211d00624e0>"
      ]
     },
     "execution_count": 32,
     "metadata": {},
     "output_type": "execute_result"
    },
    {
     "data": {
      "image/png": "[encoded data removed]",
      "text/plain": [
       "<Figure size 432x288 with 1 Axes>"
      ]
     },
     "metadata": {},
     "output_type": "display_data"
    }
   ],
   "source": [
    "plt.plot([0,1], [1,0], color='blue', label = \"total probability space\")\n",
    "plt.plot([0,0], [1,0], color='blue')\n",
    "plt.plot([0,1], [0,0], color='blue')\n",
    "plt.plot([0.5,0.5], [0.5,0], color='red', linestyle='dashed', label = \"probability space that can form triangle\")\n",
    "plt.plot([0,0.5], [0.5,0.5], color='red', linestyle='dashed')\n",
    "plt.plot([0,0.5], [0.5,0], color='red', linestyle='dashed')\n",
    "plt.xlabel('a length') \n",
    "plt.ylabel('b length') \n",
    "plt.legend() "
   ]
  },
  {
   "cell_type": "markdown",
   "metadata": {},
   "source": [
    "We can see from the plot above that there is a 1/4 probability that the three pieces will form a triangle.\n",
    "\n",
    "Let us now confirm this through numerical simulation:"
   ]
  },
  {
   "cell_type": "markdown",
   "metadata": {},
   "source": [
    "### Numerical Simulation:"
   ]
  },
  {
   "cell_type": "code",
   "execution_count": 33,
   "metadata": {},
   "outputs": [
    {
     "data": {
      "text/plain": [
       "0.2518"
      ]
     },
     "execution_count": 33,
     "metadata": {},
     "output_type": "execute_result"
    },
    {
     "data": {
      "image/png": "[encoded data removed]",
      "text/plain": [
       "<Figure size 432x288 with 1 Axes>"
      ]
     },
     "metadata": {},
     "output_type": "display_data"
    }
   ],
   "source": [
    "## number of iterations \n",
    "iterations = 10000\n",
    "results = pd.DataFrame()\n",
    "results['iteration'] = list(range(1,iterations+1))\n",
    "percentage = iterations*[None]\n",
    "\n",
    "np.random.seed(10815657)\n",
    "count = 0\n",
    "for i in range(0, iterations):\n",
    "    random_draws = np.random.uniform(low=0, high=1, size=2)\n",
    "    a = min(random_draws)\n",
    "    b = abs(random_draws[0] - random_draws[1])\n",
    "    if((a<0.5) and (b<0.5) and (0.5 < a+b)):\n",
    "        count=count+1\n",
    "    percentage[i] = count / (i+1)\n",
    "\n",
    "results['percentage'] = percentage\n",
    "\n",
    "plt.plot(results['iteration'], results['percentage'], color='blue')\n",
    "plt.xlabel('Number of trials') \n",
    "plt.ylabel('Percentage of simulations where pieces can form a triangle') \n",
    "\n",
    "percentage[iterations-1]"
   ]
  }
 ],
 "metadata": {
  "kernelspec": {
   "display_name": "Python 3",
   "language": "python",
   "name": "python3"
  },
  "language_info": {
   "codemirror_mode": {
    "name": "ipython",
    "version": 3
   },
   "file_extension": ".py",
   "mimetype": "text/x-python",
   "name": "python",
   "nbconvert_exporter": "python",
   "pygments_lexer": "ipython3",
   "version": "3.5.5"
  }
 },
 "nbformat": 4,
 "nbformat_minor": 2
}
