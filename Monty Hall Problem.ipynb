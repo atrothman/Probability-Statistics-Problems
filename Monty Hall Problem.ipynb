{
 "cells": [
  {
   "cell_type": "markdown",
   "metadata": {},
   "source": [
    "# Monty Hall Problem\n",
    "#### by Andrew Rothman"
   ]
  },
  {
   "cell_type": "markdown",
   "metadata": {},
   "source": [
    "This is a classic toy problem in probability theory, with two different variants we will explore and numerically simulate stated as follows:"
   ]
  },
  {
   "cell_type": "markdown",
   "metadata": {},
   "source": [
    "## Classic Monty Hall Problem:\n",
    "### Analytic Solution\n",
    "Suppose you're on a game show, and you're given the choice of three doors: Behind one door is a car; behind the others, goats. You pick a door, say No. 1, and the host, who knows what's behind the doors, opens another door, say No. 3, which has a goat. He then says to you, \"Do you want to pick door No. 2?\" Is it to your advantage to switch your choice?\n",
    "Explicit Assumptions:\n",
    "* The host knows deterministically which door has the car behind it\n",
    "* The host will always reveal a goat\n",
    "* The contestant is aware of the above two assumptions"
   ]
  },
  {
   "cell_type": "markdown",
   "metadata": {},
   "source": [
    "Let's defined events: <br>\n",
    "H = hypothesis that the first choice has a car behind it  <br>\n",
    "E = evidence that Monty has revealed a remaining door with a goat behind it"
   ]
  },
  {
   "cell_type": "markdown",
   "metadata": {},
   "source": [
    "$$\n",
    "\\begin{align}\n",
    "Pr[H] = \\frac{1}{3} \\\\\n",
    "Pr[E|H] = 1 \\\\\n",
    "Pr[E|H^{C}] = 1 \\\\\n",
    "Pr[H|E] = ? \\\\\n",
    "\\end{align}\n",
    "$$"
   ]
  },
  {
   "cell_type": "markdown",
   "metadata": {},
   "source": [
    "We can use Bayes' Theorem to recover the appropriate conditional probability:\n",
    "\n",
    "$$\n",
    "\\begin{align}\n",
    "Pr[H|E] = \\frac{Pr[E|H]*Pr[H]}{Pr[E]} \\\\\n",
    "= \\frac{Pr[E|H]*Pr[H]}{Pr[E|H]*Pr[H] + Pr[E|H^{C}]*Pr[H^{C}]} \\\\\n",
    "= \\frac{1*\\frac{1}{3}}{1*\\frac{1}{3} + 1*\\frac{2}{3}} \\\\\n",
    "= \\frac{\\frac{1}{3}}{\\frac{3}{3}} = \\frac{1}{3} \\\\\n",
    "\\end{align}\n",
    "$$\n",
    "\n",
    "Therefore, we have a 1/3 chance of winning the car if we stay with our initial choice, and a 2/3 chance of winning if we switch our choice to the remaining door."
   ]
  },
  {
   "cell_type": "markdown",
   "metadata": {},
   "source": [
    "Now let's numerically simulate this scenario:\n",
    "### Numerical Simulation"
   ]
  },
  {
   "cell_type": "code",
   "execution_count": 5,
   "metadata": {},
   "outputs": [
    {
     "name": "stdout",
     "output_type": "stream",
     "text": [
      "The percentage of times you will win if you switch is approximately 0.66744\n"
     ]
    }
   ],
   "source": [
    "import numpy as np\n",
    "np.random.seed(123456)\n",
    "iterations = 100000\n",
    "win = 0\n",
    "\n",
    "for i in range(0, iterations):\n",
    "    doors1_list = list(range(0,3))\n",
    "    car = doors1_list[np.asscalar(np.random.randint(low=0, high=len(doors1_list), size=1))]\n",
    "    first_choice = doors1_list[np.asscalar(np.random.randint(low=0, high=len(doors1_list), size=1))]\n",
    "    doors2_list = doors1_list.copy()\n",
    "    doors2_list.remove(first_choice)\n",
    "    \n",
    "    if(first_choice == car):\n",
    "        reveal = doors2_list[np.asscalar(np.random.randint(low=0, high=len(doors2_list), size=1))]\n",
    "        doors2_list.remove(reveal)\n",
    "        final_choice = doors2_list[0]\n",
    "    else:\n",
    "        doors2_list.remove(car)\n",
    "        reveal = doors2_list[0]\n",
    "        final_choice = car\n",
    "    \n",
    "    if(final_choice == car):\n",
    "        win = win+1\n",
    "        \n",
    "    del doors1_list, car, first_choice, doors2_list, reveal, final_choice\n",
    "\n",
    "print(\"The percentage of times you will win if you switch is approximately \" + str(win/iterations))"
   ]
  },
  {
   "cell_type": "markdown",
   "metadata": {},
   "source": [
    "## Variant Monty Hall Problem:\n",
    "### Analytic Solution\n",
    "Suppose you're on a game show, and you're given the choice of three doors: Behind one door is a car; behind the others, goats. You pick a door, say No. 1, and the host, who knows what's behind the doors, opens another door, say No. 3, which has a goat. He then says to you, \"Do you want to pick door No. 2?\" Is it to your advantage to switch your choice?\n",
    "Explicit Assumptions:\n",
    "* The host does not know deterministically which door has the car behind it\n",
    "* The host randomly chooses which of the three doors to reveal"
   ]
  },
  {
   "cell_type": "markdown",
   "metadata": {},
   "source": [
    "Let's defined events: <br>\n",
    "H = hypothesis that the first choice has a car behind it  <br>\n",
    "E = evidence that Monty has revealed a remaining door with a goat behind it"
   ]
  },
  {
   "cell_type": "markdown",
   "metadata": {},
   "source": [
    "$$\n",
    "\\begin{align}\n",
    "Pr[H] = \\frac{1}{3} \\\\\n",
    "Pr[E|H] = 1 \\\\\n",
    "Pr[E|H^{C}] = \\frac{1}{2} \\\\\n",
    "Pr[H|E] = ? \\\\\n",
    "\\end{align}\n",
    "$$"
   ]
  },
  {
   "cell_type": "markdown",
   "metadata": {},
   "source": [
    "We can use Bayes' Theorem to recover the appropriate conditional probability:\n",
    "\n",
    "$$\n",
    "\\begin{align}\n",
    "Pr[H|E] = \\frac{Pr[E|H]*Pr[H]}{Pr[E]} \\\\\n",
    "= \\frac{Pr[E|H]*Pr[H]}{Pr[E|H]*Pr[H] + Pr[E|H^{C}]*Pr[H^{C}]} \\\\\n",
    "= \\frac{1*\\frac{1}{3}}{1*\\frac{1}{3} + \\frac{1}{2}*\\frac{2}{3}} \\\\\n",
    "= \\frac{\\frac{1}{3}}{\\frac{2}{3}} = \\frac{1}{2} \\\\\n",
    "\\end{align}\n",
    "$$\n",
    "\n",
    "Therefore, we have a 1/2 chance of winning the car if we stay with our initial choice, and a 1/2 chance of winning if we switch our choice to the remaining door."
   ]
  },
  {
   "cell_type": "code",
   "execution_count": 6,
   "metadata": {},
   "outputs": [
    {
     "name": "stdout",
     "output_type": "stream",
     "text": [
      "In the case where the host is also blind to where the car is, but the revealed door is a goat, the percentage of times you will win if you switch is approximately 0.49990976358058115\n"
     ]
    }
   ],
   "source": [
    "import numpy as np\n",
    "np.random.seed(123456)\n",
    "iterations = 100000\n",
    "win = 0\n",
    "denominator = 0\n",
    "\n",
    "for i in range(0, iterations):\n",
    "    doors1_list = list(range(0,3))\n",
    "    car = doors1_list[np.asscalar(np.random.randint(low=0, high=len(doors1_list), size=1))]\n",
    "    first_choice = doors1_list[np.asscalar(np.random.randint(low=0, high=len(doors1_list), size=1))]\n",
    "    doors2_list = doors1_list.copy()\n",
    "    doors2_list.remove(first_choice)\n",
    "    \n",
    "    reveal = doors2_list[np.asscalar(np.random.randint(low=0, high=len(doors2_list), size=1))]\n",
    "    \n",
    "    if(reveal != car):\n",
    "        denominator = denominator+1\n",
    "        doors2_list.remove(reveal)\n",
    "        final_choice = doors2_list[0]\n",
    "        if(final_choice == car):\n",
    "            win = win+1\n",
    "        del final_choice\n",
    "    \n",
    "    del doors1_list, car, first_choice, doors2_list, reveal\n",
    "\n",
    "print(\"In the case where the host is also blind to where the car is, but the revealed door is a goat, the percentage of times you will win if you switch is approximately \" + str(win/denominator))"
   ]
  }
 ],
 "metadata": {
  "kernelspec": {
   "display_name": "Python 3",
   "language": "python",
   "name": "python3"
  },
  "language_info": {
   "codemirror_mode": {
    "name": "ipython",
    "version": 3
   },
   "file_extension": ".py",
   "mimetype": "text/x-python",
   "name": "python",
   "nbconvert_exporter": "python",
   "pygments_lexer": "ipython3",
   "version": "3.5.5"
  }
 },
 "nbformat": 4,
 "nbformat_minor": 2
}
