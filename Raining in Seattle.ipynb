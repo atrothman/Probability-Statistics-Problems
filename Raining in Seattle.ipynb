{
 "cells": [
  {
   "cell_type": "markdown",
   "metadata": {},
   "source": [
    "# Raining in Seattle\n",
    "#### by Andrew Rothman"
   ]
  },
  {
   "cell_type": "markdown",
   "metadata": {},
   "source": [
    "This is a classic toy problem in probability theory, stated as follows: <br>\n",
    "* You're about to get on a plane to Seattle. You want to know if you should bring an umbrella. You call 3 random friends of yours who live there and ask each independently if it's raining. Each of your friends has a 2/3 chance of telling you the truth and a 1/3 chance of messing with you by lying. All 3 friends tell you that \"Yes\" it is raining. What is the probability that it's actually raining in Seattle?\n",
    "  * Let’s assume the marginal probability of it raining in Seattle is 25%\n"
   ]
  },
  {
   "cell_type": "markdown",
   "metadata": {},
   "source": [
    "### Analytic Solution:\n",
    "T = All three friends tell you it’s raining <br>\n",
    "R = It’s truly raining\n",
    "\n",
    "$$\n",
    "\\begin{align}\n",
    "Pr[T|R] = (\\frac{2}{3})*(\\frac{2}{3})*(\\frac{2}{3})=\\frac{8}{27} \\\\\n",
    "Pr[T|R^{C}] = (\\frac{1}{3})*(\\frac{1}{3})*(\\frac{1}{3})=\\frac{1}{27} \\\\\n",
    "Pr[R] = \\frac{1}{4} \\\\\n",
    "Pr[R|T] = ? \\\\\n",
    "\\end{align}\n",
    "$$\n",
    "\n",
    "Using Bayes Theorem:\n",
    "$$\n",
    "\\begin{align}\n",
    "Pr[R|T] = \\frac{Pr[R \\cap T]}{Pr[T]} \\\\\n",
    "= \\frac{Pr[T|R]*Pr[R]}{Pr[T]} \\\\\n",
    "= \\frac{Pr[T|R]*Pr[R]}{Pr[T|R]*Pr[R] + Pr[T|R^{C}]*Pr[R^{C}]} \\\\\n",
    "= \\frac{\\frac{8}{27}*\\frac{1}{4}}{\\frac{8}{27}*\\frac{1}{4} + \\frac{1}{27}*\\frac{3}{4}} \\\\\n",
    "= \\frac{8}{11} \\\\\n",
    "\\end{align}\n",
    "$$\n",
    "\n",
    "Let's now simulate this scenario, and see if we can numerically recover the solution:"
   ]
  },
  {
   "cell_type": "markdown",
   "metadata": {},
   "source": [
    "### Numerical Simulation:"
   ]
  },
  {
   "cell_type": "code",
   "execution_count": 2,
   "metadata": {},
   "outputs": [
    {
     "name": "stdout",
     "output_type": "stream",
     "text": [
      "0.7256468273487457\n",
      "0.7272727272727273\n"
     ]
    }
   ],
   "source": [
    "import numpy as np\n",
    "\n",
    "np.random.seed(123456)\n",
    "R_prob = 0.25\n",
    "iterations = 1000000\n",
    "it_rained = 0\n",
    "denominator_count = 0\n",
    "\n",
    "for i in range(0, iterations):\n",
    "    R=0\n",
    "    y1=0\n",
    "    y2=0\n",
    "    y3=0\n",
    "    \n",
    "    if(np.random.uniform(low=0, high=1, size=1)<=R_prob):\n",
    "        R = 1\n",
    "        \n",
    "    if(R==1):\n",
    "        y_prob = 2/3\n",
    "        if(np.random.uniform(low=0, high=1, size=1)<=y_prob):\n",
    "            y1=1\n",
    "        if(np.random.uniform(low=0, high=1, size=1)<=y_prob):\n",
    "            y2=1\n",
    "        if(np.random.uniform(low=0, high=1, size=1)<=y_prob):\n",
    "            y3=1\n",
    "        if(y1==1 and y2==1 and y3==1):\n",
    "            it_rained = it_rained+1\n",
    "            denominator_count = denominator_count+1\n",
    "    else:\n",
    "        y_prob = 1/3\n",
    "        if(np.random.uniform(low=0, high=1, size=1)<=y_prob):\n",
    "            y1=1\n",
    "        if(np.random.uniform(low=0, high=1, size=1)<=y_prob):\n",
    "            y2=1\n",
    "        if(np.random.uniform(low=0, high=1, size=1)<=y_prob):\n",
    "            y3=1\n",
    "        if(y1==1 and y2==1 and y3==1):\n",
    "            denominator_count = denominator_count+1\n",
    "        \n",
    "\n",
    "\n",
    "print(it_rained/denominator_count)\n",
    "print(8/11)"
   ]
  }
 ],
 "metadata": {
  "kernelspec": {
   "display_name": "Python 3",
   "language": "python",
   "name": "python3"
  },
  "language_info": {
   "codemirror_mode": {
    "name": "ipython",
    "version": 3
   },
   "file_extension": ".py",
   "mimetype": "text/x-python",
   "name": "python",
   "nbconvert_exporter": "python",
   "pygments_lexer": "ipython3",
   "version": "3.5.5"
  }
 },
 "nbformat": 4,
 "nbformat_minor": 2
}
