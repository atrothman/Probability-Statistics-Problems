{
 "cells": [
  {
   "cell_type": "markdown",
   "metadata": {},
   "source": [
    "# Coupon Problem\n",
    "#### by Andrew Rothman"
   ]
  },
  {
   "cell_type": "markdown",
   "metadata": {},
   "source": [
    "This is a classic toy problem in probability theory, stated as follows: <br>\n",
    "* There is a brand of cereal that, with a purchase of a box, comes with a coupon. There are a total of 10 different coupon types you may obtain. If the probability of getting any one of the 5 unique coupon types is equal with each box cereal purchase, what is the expected number of boxes of cereal you will need to purchase to collect all 10 unique coupons? "
   ]
  },
  {
   "cell_type": "markdown",
   "metadata": {},
   "source": [
    "### Analytic Solution:\n",
    "We can solve this problem analytically by noting a few things:\n",
    "* each box of cereal you purchase is independent of the last\n",
    "* since the last unique coupon you collected, the probability that the kth new box of cereal you purchase will contain a coupon you have not yet collected follows a geometric distribution"
   ]
  },
  {
   "cell_type": "markdown",
   "metadata": {},
   "source": [
    "$$\n",
    "\\begin{align}\n",
    "X_1 \\sim Geometric(p=\\frac{5}{5}) \\\\\n",
    "X_2 \\sim Geometric(p=\\frac{4}{5}) \\\\\n",
    "X_3 \\sim Geometric(p=\\frac{3}{5}) \\\\\n",
    "X_4 \\sim Geometric(p=\\frac{2}{5}) \\\\\n",
    "X_5 \\sim Geometric(p=\\frac{1}{5}) \\\\\n",
    "\\end{align}\n",
    "$$\n",
    "\n",
    "and note that:\n",
    "$$\n",
    "\\begin{align}\n",
    "E[X] = \\frac{1}{p} \\\\\n",
    "\\end{align}\n",
    "$$\n",
    "\n",
    "So, the expcted number of boxes is:\n",
    "$$\n",
    "\\begin{align}\n",
    "E[X_1] + E[X_2] + E[X_3] + E[X_4] + E[X_5] = 11.4167 \\\\\n",
    "\\end{align}\n",
    "$$"
   ]
  },
  {
   "cell_type": "markdown",
   "metadata": {},
   "source": [
    "### Numerical Simulation:"
   ]
  },
  {
   "cell_type": "code",
   "execution_count": 3,
   "metadata": {},
   "outputs": [
    {
     "name": "stdout",
     "output_type": "stream",
     "text": [
      "11.431299999999993\n"
     ]
    }
   ],
   "source": [
    "import numpy as np\n",
    "import pandas as pd\n",
    "import matplotlib.pyplot as plt \n",
    "\n",
    "## specify number of coupons, and the probability of getting a coupon\n",
    "num_coupons=5\n",
    "expected_number_of_trials = 0\n",
    "for i in range(num_coupons, 0, -1):\n",
    "    expected_number_of_trials = expected_number_of_trials + (1/(i/num_coupons))\n",
    "\n",
    "iterations = 10000\n",
    "df = pd.DataFrame()\n",
    "df['iteration'] = range(1,iterations+1)\n",
    "df['average_num_trials_required'] = None\n",
    "\n",
    "for i in range(0, iterations):\n",
    "    full_set = set(range(0,num_coupons))\n",
    "    current_set = set([])\n",
    "    total_number_of_coupons_collected = 0\n",
    "    while(current_set != full_set):\n",
    "        total_number_of_coupons_collected = total_number_of_coupons_collected+1\n",
    "        random_coupon = np.asscalar(np.random.randint(low=0, high=num_coupons, size=1))\n",
    "        update_set = list(current_set)\n",
    "        update_set.append(random_coupon)\n",
    "        current_set = set(update_set)\n",
    "        del random_coupon, update_set\n",
    "    \n",
    "    if(i+1 == 1):\n",
    "        df.loc[df['iteration']==i+1, 'average_num_trials_required'] = total_number_of_coupons_collected\n",
    "    else:\n",
    "        df.loc[df['iteration']==i+1, 'average_num_trials_required'] = float(((df.loc[df['iteration']==i, 'average_num_trials_required']*i) + total_number_of_coupons_collected)/(i+1))\n",
    "\n",
    "print(df['average_num_trials_required'][i])"
   ]
  },
  {
   "cell_type": "code",
   "execution_count": 4,
   "metadata": {},
   "outputs": [
    {
     "data": {
      "text/plain": [
       "Text(0,0.5,'average_num_trials_required')"
      ]
     },
     "execution_count": 4,
     "metadata": {},
     "output_type": "execute_result"
    },
    {
     "data": {
      "image/png": "[encoded data removed]",
      "text/plain": [
       "<Figure size 432x288 with 1 Axes>"
      ]
     },
     "metadata": {},
     "output_type": "display_data"
    }
   ],
   "source": [
    "plt.plot(df['iteration'], df['average_num_trials_required'])\n",
    "plt.title('Coupon Problem') \n",
    "plt.xlabel('Iterative Step') \n",
    "plt.ylabel('average_num_trials_required') "
   ]
  },
  {
   "cell_type": "code",
   "execution_count": null,
   "metadata": {},
   "outputs": [],
   "source": []
  }
 ],
 "metadata": {
  "kernelspec": {
   "display_name": "Python 3",
   "language": "python",
   "name": "python3"
  },
  "language_info": {
   "codemirror_mode": {
    "name": "ipython",
    "version": 3
   },
   "file_extension": ".py",
   "mimetype": "text/x-python",
   "name": "python",
   "nbconvert_exporter": "python",
   "pygments_lexer": "ipython3",
   "version": "3.5.5"
  }
 },
 "nbformat": 4,
 "nbformat_minor": 2
}
